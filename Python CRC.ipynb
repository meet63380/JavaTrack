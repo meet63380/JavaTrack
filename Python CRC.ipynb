{
 "cells": [
  {
   "cell_type": "code",
   "execution_count": 29,
   "id": "0fa2974a",
   "metadata": {},
   "outputs": [],
   "source": [
    "msg=\"\"\n",
    "crc=\"\"\n",
    "encoded=\"\""
   ]
  },
  {
   "cell_type": "code",
   "execution_count": 30,
   "id": "f5bbc6a1",
   "metadata": {},
   "outputs": [
    {
     "name": "stdout",
     "output_type": "stream",
     "text": [
      "Enter the message: \n",
      "101101\n"
     ]
    }
   ],
   "source": [
    "print(\"Enter the message: \")\n",
    "msg=input()"
   ]
  },
  {
   "cell_type": "code",
   "execution_count": 31,
   "id": "529d91c4",
   "metadata": {},
   "outputs": [
    {
     "name": "stdout",
     "output_type": "stream",
     "text": [
      "Enter the CRC generator polynomial: \n",
      "1101\n"
     ]
    }
   ],
   "source": [
    "print(\"Enter the CRC generator polynomial: \")\n",
    "crc = input()"
   ]
  },
  {
   "cell_type": "code",
   "execution_count": 32,
   "id": "2919feab",
   "metadata": {},
   "outputs": [],
   "source": [
    "msg_len = len(msg)\n",
    "crc_len = len(crc)"
   ]
  },
  {
   "cell_type": "code",
   "execution_count": 33,
   "id": "7594e721",
   "metadata": {},
   "outputs": [],
   "source": [
    "encoded += msg"
   ]
  },
  {
   "cell_type": "code",
   "execution_count": 34,
   "id": "489958cd",
   "metadata": {},
   "outputs": [],
   "source": [
    "for i in range(1,crc_len):\n",
    "    encoded += '0'"
   ]
  },
  {
   "cell_type": "code",
   "execution_count": 35,
   "id": "88999304",
   "metadata": {},
   "outputs": [],
   "source": [
    "encoded =list(encoded)"
   ]
  },
  {
   "cell_type": "code",
   "execution_count": 36,
   "id": "e8414e1b",
   "metadata": {},
   "outputs": [],
   "source": [
    "i = 0\n",
    "while (i <= len(encoded) - crc_len):\n",
    "    for j in range(0, crc_len):\n",
    "        encoded[i+j] = '0' if encoded[i+j] == crc[j] else '1'\n",
    "    while( i<len(encoded) and encoded[i] != '1'):\n",
    "        i += 1"
   ]
  },
  {
   "cell_type": "code",
   "execution_count": 37,
   "id": "c0eea61d",
   "metadata": {},
   "outputs": [
    {
     "name": "stdout",
     "output_type": "stream",
     "text": [
      "000000010\n"
     ]
    }
   ],
   "source": [
    "print(''.join(encoded))"
   ]
  },
  {
   "cell_type": "code",
   "execution_count": 38,
   "id": "c3f1babe",
   "metadata": {},
   "outputs": [
    {
     "name": "stdout",
     "output_type": "stream",
     "text": [
      "010\n"
     ]
    }
   ],
   "source": [
    "print(''.join(encoded[len(encoded)-crc_len+1 :]))"
   ]
  },
  {
   "cell_type": "code",
   "execution_count": 39,
   "id": "8728f3a9",
   "metadata": {},
   "outputs": [
    {
     "name": "stdout",
     "output_type": "stream",
     "text": [
      "101101010\n"
     ]
    }
   ],
   "source": [
    "print(msg+''.join(encoded[len(encoded)-crc_len+1 :]))"
   ]
  },
  {
   "cell_type": "code",
   "execution_count": null,
   "id": "a707a873",
   "metadata": {},
   "outputs": [],
   "source": []
  }
 ],
 "metadata": {
  "kernelspec": {
   "display_name": "Python 3",
   "language": "python",
   "name": "python3"
  },
  "language_info": {
   "codemirror_mode": {
    "name": "ipython",
    "version": 3
   },
   "file_extension": ".py",
   "mimetype": "text/x-python",
   "name": "python",
   "nbconvert_exporter": "python",
   "pygments_lexer": "ipython3",
   "version": "3.8.8"
  }
 },
 "nbformat": 4,
 "nbformat_minor": 5
}
